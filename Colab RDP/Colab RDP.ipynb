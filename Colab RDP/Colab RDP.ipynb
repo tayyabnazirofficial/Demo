{
  "nbformat": 4,
  "nbformat_minor": 0,
  "metadata": {
    "colab": {
      "name": "Colab RDP.ipynb",
      "provenance": [],
      "include_colab_link": true
    },
    "kernelspec": {
      "name": "python3",
      "display_name": "Python 3"
    }
  },
  "cells": [
    {
      "cell_type": "markdown",
      "metadata": {
        "id": "view-in-github",
        "colab_type": "text"
      },
      "source": [
        "<a href=\"https://colab.research.google.com/github/tayyabnazirofficial/Demo/blob/main/Colab%20RDP/Colab%20RDP.ipynb\" target=\"_parent\"><img src=\"https://colab.research.google.com/assets/colab-badge.svg\" alt=\"Open In Colab\"/></a>"
      ]
    },
    {
      "cell_type": "markdown",
      "metadata": {
        "id": "iLh_9SkSut4u"
      },
      "source": [
        "# **Colabcraft** : Stream Minecraft Java (TLauncher) to Chromebook using Chrome RDP\n",
        "\n",
        "> **Warning : Not for Cryptocurrency Mining<br></br>**\n",
        "\n",
        "As this runs TLauncher, be warned that you won't be able to join non-cracked servers. This includes Hypixel.<br>\n",
        "Technically, the code <b>could</b> be changed to use the official Minecraft client, but in this day and age it's unsafe to type in your MC account details on anywhere you don't trust.\n",
        "\n",
        "**[Colab Hacks](https://github.com/PradyumnaKrishna/Colab-Hacks)**"
      ]
    },
    {
      "cell_type": "code",
      "metadata": {
        "id": "t4yNp3KmLtZ6",
        "cellView": "form",
        "outputId": "201aae29-fdb3-481f-f445-d66508318d67",
        "colab": {
          "base_uri": "https://localhost:8080/"
        }
      },
      "source": [
        "#@title **Create User**\n",
        "#@markdown Just press the play button, no need to change the default variables.\n",
        "\n",
        "username = \"user\" #@param {type:\"string\"}\n",
        "password = \"root\" #@param {type:\"string\"}\n",
        "\n",
        "print(\"Creating User and Setting it up\")\n",
        "\n",
        "# Creation of user\n",
        "! sudo useradd -m $username &> /dev/null\n",
        "\n",
        "# Add user to sudo group\n",
        "! sudo adduser $username sudo &> /dev/null\n",
        "\n",
        "# Set password of user to 'root'\n",
        "! echo '$username:$password' | sudo chpasswd\n",
        "\n",
        "# Change default shell from sh to bash\n",
        "! sed -i 's/\\/bin\\/sh/\\/bin\\/bash/g' /etc/passwd\n",
        "\n",
        "print(\"User Created and Configured\")"
      ],
      "execution_count": 1,
      "outputs": [
        {
          "output_type": "stream",
          "name": "stdout",
          "text": [
            "Creating User and Setting it up\n",
            "chpasswd: (user $username) pam_chauthtok() failed, error:\n",
            "Authentication token manipulation error\n",
            "chpasswd: (line 1, user $username) password not changed\n",
            "User Created and Configured\n"
          ]
        }
      ]
    },
    {
      "cell_type": "code",
      "metadata": {
        "cellView": "form",
        "id": "HcQP_7n37AAj"
      },
      "source": [
        "#@title **RDP**\n",
        "#@markdown  It takes 4-5 minutes for installation\n",
        "\n",
        "import os\n",
        "import subprocess\n",
        "\n",
        "#@markdown  Visit http://remotedesktop.google.com/headless and Copy the command after authentication\n",
        "\n",
        "CRP = \"\" #@param {type:\"string\"}\n",
        "\n",
        "#@markdown Enter a pin more or equal to 6 digits\n",
        "Pin = 123456 #@param {type: \"integer\"}\n",
        "\n",
        "\n",
        "class CRD:\n",
        "    def __init__(self):\n",
        "        os.system(\"apt update\")\n",
        "        self.installCRD()\n",
        "        self.installDesktopEnvironment()\n",
        "        self.installGoogleChorme()\n",
        "        self.installTLauncher()\n",
        "        self.finish()\n",
        "\n",
        "    @staticmethod\n",
        "    def installCRD():\n",
        "        print(\"Installing Chrome Remote Desktop\")\n",
        "        subprocess.run(['wget', 'https://dl.google.com/linux/direct/chrome-remote-desktop_current_amd64.deb'], stdout=subprocess.PIPE)\n",
        "        subprocess.run(['dpkg', '--install', 'chrome-remote-desktop_current_amd64.deb'], stdout=subprocess.PIPE)\n",
        "        subprocess.run(['apt', 'install', '--assume-yes', '--fix-broken'], stdout=subprocess.PIPE)\n",
        "\n",
        "    @staticmethod\n",
        "    def installDesktopEnvironment():\n",
        "        print(\"Installing Desktop Environment\")\n",
        "        os.system(\"export DEBIAN_FRONTEND=noninteractive\")\n",
        "        os.system(\"apt install --assume-yes xfce4 desktop-base xfce4-terminal\")\n",
        "        os.system(\"bash -c 'echo \\\"exec /etc/X11/Xsession /usr/bin/xfce4-session\\\" > /etc/chrome-remote-desktop-session'\")\n",
        "        os.system(\"apt remove --assume-yes gnome-terminal\")\n",
        "        os.system(\"apt install --assume-yes xscreensaver\")\n",
        "        os.system(\"systemctl disable lightdm.service\")\n",
        "\n",
        "    @staticmethod\n",
        "    def installGoogleChorme():\n",
        "        print(\"Installing Google Chrome\")\n",
        "        subprocess.run([\"wget\", \"https://dl.google.com/linux/direct/google-chrome-stable_current_amd64.deb\"], stdout=subprocess.PIPE)\n",
        "        subprocess.run([\"dpkg\", \"--install\", \"google-chrome-stable_current_amd64.deb\"], stdout=subprocess.PIPE)\n",
        "        subprocess.run(['apt', 'install', '--assume-yes', '--fix-broken'], stdout=subprocess.PIPE)\n",
        "\n",
        "    @staticmethod\n",
        "    def installTLauncher():\n",
        "        print(\"Installing TLauncher\")\n",
        "        subprocess.run([\"wget\", \"https://github.com/RikyIsola/tlauncher-linux/releases/download/v1.0/tlauncher_1.0_amd64.deb\"], stdout=subprocess.PIPE)\n",
        "        subprocess.run([\"dpkg\", \"--install\", \"tlauncher_1.0_amd64.deb\"], stdout=subprocess.PIPE)\n",
        "        subprocess.run(['apt', 'install', '--assume-yes', '--fix-broken'], stdout=subprocess.PIPE)\n",
        "\n",
        "    @staticmethod\n",
        "    def finish():\n",
        "        print(\"Finalizing\")\n",
        "        os.system(f\"adduser {username} chrome-remote-desktop\")\n",
        "        command = f\"{CRP} --pin={Pin}\"\n",
        "        os.system(f\"su - {username} -c '{command}'\")\n",
        "        os.system(\"service chrome-remote-desktop start\")\n",
        "        print(\"Finished Succesfully\")\n",
        "\n",
        "\n",
        "try:\n",
        "    if username:\n",
        "        if CRP == \"\":\n",
        "            print(\"Please enter authcode from the given link\")\n",
        "        elif len(str(Pin)) < 6:\n",
        "            print(\"Enter a pin more or equal to 6 digits\")\n",
        "        else:\n",
        "            CRD()\n",
        "except NameError as e:\n",
        "    print(\"username variable not found\")\n",
        "    print(\"Create a User First\")"
      ],
      "execution_count": null,
      "outputs": []
    },
    {
      "cell_type": "code",
      "metadata": {
        "id": "0CI38pAe2bsZ",
        "cellView": "form"
      },
      "source": [
        "#@title **Automatically apply performance settings**\n",
        "#@markdown Run to apply the premade performance settings for Optifine instead of changing them manually.<br>\n",
        "#@markdown These premade settings may make the graphics look pretty terrible, but overall make the game more playable and less laggy.<br>\n",
        "#@markdown In most cases you probably could just use the default settings, but if the lag becomes unbearable then you can use these instead.\n",
        "!pip install gdown -q\n",
        "!mkdir /home/user/.minecraft\n",
        "!cd /home/user/.minecraft\n",
        "!gdown https://drive.google.com/uc?id=1jWEH71TjAY-F3D-5q2atSl54fLhSJGix -O /home/user/.minecraft/options.txt -q\n",
        "!gdown https://drive.google.com/uc?id=1GSEYPFqukw6MisUUiLyzjOL5JS1LXIRc -O /home/user/.minecraft/optionsof.txt -q\n",
        "! runuser -l $user -c \"sudo chmod u+rwx,go+rwx /home/user/.minecraft\"  > /dev/null 2>&1\n"
      ],
      "execution_count": null,
      "outputs": []
    },
    {
      "cell_type": "code",
      "metadata": {
        "id": "vk2qtOTGIFsQ",
        "cellView": "form"
      },
      "source": [
        "#@title **Google Drive Mount**\n",
        "#@markdown Google Drive used for files.<br>\n",
        "#@markdown In this case, used for storing MC world saves.<br>\n",
        "#@markdown Mounted at `user` Home directory inside drive folder<br>\n",
        "#@markdown Run <b>before</b> using options below!\n",
        "\n",
        "def MountGDrive():\n",
        "    from google.colab import drive\n",
        "\n",
        "    ! runuser -l $user -c \"yes | python3 -m pip install --user google-colab\"  > /dev/null 2>&1\n",
        "\n",
        "    mount = \"\"\"from os import environ as env\n",
        "from google.colab import drive\n",
        "\n",
        "env['CLOUDSDK_CONFIG']  = '/content/.config'\n",
        "drive.mount('{}')\"\"\".format(mountpoint)\n",
        "\n",
        "    with open('/content/mount.py', 'w') as script:\n",
        "        script.write(mount)\n",
        "\n",
        "    ! runuser -l $user -c \"python3 /content/mount.py\"\n",
        "\n",
        "try:\n",
        "    if username:\n",
        "        mountpoint = \"/home/\"+username+\"/drive\"\n",
        "        user = username\n",
        "except NameError:\n",
        "    print(\"username variable not found, mounting at `/content/drive' using `root'\")\n",
        "    mountpoint = '/content/drive'\n",
        "    user = 'root'\n",
        "\n",
        "MountGDrive()"
      ],
      "execution_count": null,
      "outputs": []
    },
    {
      "cell_type": "code",
      "metadata": {
        "id": "8PdKLIRXmzcX",
        "cellView": "form"
      },
      "source": [
        "#@title **RESTORE MC Saves from Drive to RDP**\n",
        "#@markdown Use this to copy your Minecraft worlds from your Google Drive to your RDP server.<br>\n",
        "#@markdown <b>EXTRA TIP!</b> You can add custom worlds by uploading them to the \"0_MC_Saves\" folder in your Google Drive!\n",
        "! runuser -l $user -c \"mkdir -p /home/user/.minecraft/saves\"  > /dev/null 2>&1\n",
        "! runuser -l $user -c \"mkdir -p /home/user/drive/MyDrive/0_MC_Saves\"  > /dev/null 2>&1\n",
        "! runuser -l $user -c \"cp -r /home/user/drive/MyDrive/0_MC_Saves/saves /home/user/.minecraft/\"  > /dev/null 2>&1\n",
        "print(\"Done! If it didn't work, it's likely you don't have any worlds backed up.\")"
      ],
      "execution_count": null,
      "outputs": []
    },
    {
      "cell_type": "code",
      "metadata": {
        "id": "Nl5vZO1QnNLq",
        "cellView": "form"
      },
      "source": [
        "#@title **BACKUP MC Saves from Drive to RDP**\n",
        "#@markdown Use this to copy your Minecraft worlds from your RDP server to your Google Drive.<br>\n",
        "! runuser -l $user -c \"mkdir -p /home/user/.minecraft/saves\"  > /dev/null 2>&1\n",
        "! runuser -l $user -c \"mkdir -p /home/user/drive/MyDrive/0_MC_Saves\"  > /dev/null 2>&1\n",
        "! runuser -l $user -c \"cp -r /home/user/.minecraft/saves /home/user/drive/MyDrive/0_MC_Saves/\"  > /dev/null 2>&1\n",
        "print(\"Done! If it didn't work, it's likely you don't have any worlds.\")"
      ],
      "execution_count": null,
      "outputs": []
    },
    {
      "cell_type": "code",
      "metadata": {
        "cellView": "form",
        "id": "w8VZi3wZMYh0"
      },
      "source": [
        "#@title **Anti-Shutdown**\n",
        "#@markdown Run this when you're playing Minecraft to prevent the RDP from shutting down. When you need to restore or backup MC saves, stop this block, restore/backup, and start this block again. Note that RDP will always shut down after 12 hours, even if still being used.<br>\n",
        "\n",
        "while True:pass"
      ],
      "execution_count": null,
      "outputs": []
    },
    {
      "cell_type": "markdown",
      "metadata": {
        "id": "XMtvVOqKNczI"
      },
      "source": [
        "Thanks!"
      ]
    }
  ]
}